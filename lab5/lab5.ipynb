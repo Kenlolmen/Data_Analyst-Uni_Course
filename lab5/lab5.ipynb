{
 "cells": [
  {
   "cell_type": "code",
   "execution_count": 8,
   "metadata": {},
   "outputs": [
    {
     "name": "stdout",
     "output_type": "stream",
     "text": [
      "1.584962500721156\n",
      "0.9910760598382222\n",
      "(0.37887883713522896, 0.3788788371352292)\n"
     ]
    }
   ],
   "source": [
    "import numpy as np\n",
    "import pandas as pd\n",
    "\n",
    "#1\n",
    "def freq(x, prob = True):\n",
    "    df = pd.DataFrame({'x': x })\n",
    "    counts = df.value_counts().reset_index()\n",
    "    counts.columns = ['x', 'count']\n",
    "    \n",
    "    if prob:\n",
    "        counts['count'] = counts['count'] / counts['count'].sum()  \n",
    "    \n",
    "    return counts['x'].values, counts['count'].values\n",
    "\n",
    "\n",
    "#2\n",
    "def freq2(x, y, prob = True):\n",
    "    df = pd.DataFrame({'x': x, 'y': y})\n",
    "    counts = df.value_counts().reset_index()\n",
    "    counts.columns = ['x', 'y', 'count']\n",
    "    \n",
    "    if prob:\n",
    "        counts['count'] = counts['count'] / counts['count'].sum()  \n",
    "    \n",
    "    return counts['x'].values, counts['y'].values, counts['count'].values\n",
    "\n",
    "\n",
    "#3\n",
    "def entropy(x):\n",
    "    _, p = freq(x)  \n",
    "    return -np.sum(p * np.log2(p))\n",
    "\n",
    "def infogain(x, y):\n",
    "    Hx = entropy(x)\n",
    "    Hy = entropy(y)\n",
    "\n",
    "    _, _, pij = freq2(x, y)\n",
    "    Hxy = 0\n",
    "    for p in pij:\n",
    "        Hxy -= p * np.log2(p)\n",
    "\n",
    "    xi, pi = freq(x)\n",
    "    Hyx = 0\n",
    "    for i, x_val in enumerate(xi):\n",
    "        yx = [y[j] for j in range(len(y)) if x[j] == x_val]\n",
    "        hyx = entropy(yx)\n",
    "        Hyx += pi[i] * hyx\n",
    "\n",
    "    ig1 = Hx + Hy - Hxy\n",
    "    ig2 = Hy - Hyx\n",
    "    return float(ig1), float(ig2)\n",
    "\n",
    "\n",
    "x = [1, 2, 1, 3, 2, 1, 2, 3, 3]\n",
    "y = ['A', 'A', 'B', 'A', 'B', 'B', 'B', 'A', 'A']\n",
    "\n",
    "print(entropy(x))  \n",
    "print(entropy(y))  \n",
    "print(infogain(x, y))  \n"
   ]
  },
  {
   "cell_type": "code",
   "execution_count": null,
   "metadata": {},
   "outputs": [
    {
     "name": "stdout",
     "output_type": "stream",
     "text": [
      "przyrost informacji:\n",
      "legs -> 1.3630\n",
      "milk -> 0.9743\n",
      "toothed -> 0.8657\n",
      "eggs -> 0.8301\n",
      "hair -> 0.7907\n",
      "feathers -> 0.7179\n",
      "backbone -> 0.6762\n",
      "breathes -> 0.6145\n",
      "tail -> 0.5005\n",
      "airborne -> 0.4697\n",
      "fins -> 0.4666\n",
      "aquatic -> 0.3895\n",
      "catsize -> 0.3085\n",
      "venomous -> 0.1331\n",
      "predator -> 0.0934\n",
      "domestic -> 0.0507\n",
      "\n",
      "pary cech:\n",
      "eggs / milk -> 0.7871\n",
      "hair / milk -> 0.6600\n",
      "hair / eggs -> 0.5508\n",
      "feathers / legs -> 0.4972\n",
      "backbone / legs -> 0.4583\n",
      "airborne / legs -> 0.4494\n",
      "toothed / legs -> 0.4462\n",
      "fins / legs -> 0.3909\n",
      "breathes / legs -> 0.3783\n",
      "milk / legs -> 0.3671\n"
     ]
    }
   ],
   "source": [
    "#4\n",
    "import pandas as pd\n",
    "\n",
    "csv = pd.read_csv('zoo.csv') \n",
    "gain = []\n",
    "\n",
    "a = csv.iloc[:, 1:-1]\n",
    "b = csv.iloc[:, -1]\n",
    "for c in a.columns:\n",
    "    ig, _ = infogain(a[c].tolist(), b.tolist()) \n",
    "    gain.append((c,ig))\n",
    "\n",
    "pgain = {}\n",
    "columns = a.columns.tolist()\n",
    "for i in range(len(columns)):\n",
    "    for j in range(i + 1, len(columns)):\n",
    "        c1 = columns[i]\n",
    "        c2 = columns[j]\n",
    "        ig, _ = infogain(a[c1].tolist(), a[c2].tolist())  \n",
    "        pgain[(c1, c2)] = ig\n",
    "\n",
    "pairs = sorted(pgain.items(), key=lambda item: item[1], reverse=True)\n",
    "features = sorted(gain, key=lambda item: item[1], reverse=True)\n",
    "\n",
    "print(\"przyrost informacji:\")\n",
    "for feature, ig in features:\n",
    "    print(f\"{feature} -> {ig:.4f}\")\n",
    "\n",
    "print(\"\\npary cech:\")\n",
    "for (c1, c2), ig in pairs[:10]:\n",
    "    print(f\"{c1} / {c2} -> {ig:.4f}\")\n"
   ]
  },
  {
   "cell_type": "code",
   "execution_count": null,
   "metadata": {},
   "outputs": [],
   "source": [
    "a = 1433 *"
   ]
  }
 ],
 "metadata": {
  "kernelspec": {
   "display_name": "venv",
   "language": "python",
   "name": "python3"
  },
  "language_info": {
   "codemirror_mode": {
    "name": "ipython",
    "version": 3
   },
   "file_extension": ".py",
   "mimetype": "text/x-python",
   "name": "python",
   "nbconvert_exporter": "python",
   "pygments_lexer": "ipython3",
   "version": "3.12.6"
  }
 },
 "nbformat": 4,
 "nbformat_minor": 2
}
