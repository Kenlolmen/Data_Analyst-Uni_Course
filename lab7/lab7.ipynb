{
 "cells": [
  {
   "cell_type": "code",
   "execution_count": 1,
   "id": "d38d3483",
   "metadata": {},
   "outputs": [],
   "source": [
    "#liczba odleglosci \n",
    "#wyznaczamy przynaleznosc -argmn\n",
    "#liczymy nowe srodki - mean\n",
    "# np.linalg.inv() "
   ]
  },
  {
   "cell_type": "code",
   "execution_count": 24,
   "id": "71bf1e62",
   "metadata": {},
   "outputs": [
    {
     "name": "stdout",
     "output_type": "stream",
     "text": [
      "distm(X,C,V): 1.1547005383792515\n",
      "distp(X,C): 1.0\n"
     ]
    }
   ],
   "source": [
    "import numpy as np\n",
    "\n",
    "def distp(X,C):\n",
    "    LpunktowX = X.shape[0]\n",
    "    LpunktowC = C.shape[0]\n",
    "\n",
    "    o = np.zeros((LpunktowX,LpunktowC)) #odleglosc\n",
    "\n",
    "    for i in range(LpunktowX):\n",
    "        for j in range(LpunktowC):\n",
    "            r = X[i]-C[j] #roznica\n",
    "            o = np.sqrt(np.dot(r,r))\n",
    "    return o\n",
    "\n",
    "def distm(X,C,V):\n",
    "    LpunktowX = X.shape[0]\n",
    "    LpunktowC = C.shape[0]\n",
    "    inv = np.linalg.inv(V)\n",
    "\n",
    "    o = np.zeros((LpunktowX,LpunktowC)) #odleglosc\n",
    "    for i in range(LpunktowX):\n",
    "        for j in range(LpunktowC):\n",
    "            r = X[i]-C[j] #roznica\n",
    "            o = np.sqrt(np.dot(np.dot(r, inv), r))\n",
    "\n",
    "    return o\n",
    "\n",
    "\n",
    "X = np.array([[1, 2], [2, 3], [3, 4]])  \n",
    "C = np.array([[2, 2], [3, 3]])  \n",
    "V = np.array([[1, 0.5], [0.5, 1]])  \n",
    "d = distm(X, C, V)\n",
    "d1 = distp(X, C)\n",
    "print(f\"distm(X,C,V):\",d)\n",
    "print(f\"distp(X,C):\",d1)\n",
    "\n",
    "\n"
   ]
  },
  {
   "cell_type": "code",
   "execution_count": null,
   "id": "fa48a0a8",
   "metadata": {},
   "outputs": [],
   "source": []
  }
 ],
 "metadata": {
  "kernelspec": {
   "display_name": "venv",
   "language": "python",
   "name": "python3"
  },
  "language_info": {
   "codemirror_mode": {
    "name": "ipython",
    "version": 3
   },
   "file_extension": ".py",
   "mimetype": "text/x-python",
   "name": "python",
   "nbconvert_exporter": "python",
   "pygments_lexer": "ipython3",
   "version": "3.12.6"
  }
 },
 "nbformat": 4,
 "nbformat_minor": 5
}
